{
 "cells": [
  {
   "cell_type": "markdown",
   "metadata": {},
   "source": [
    "## Boy or Girl? A Machine Learning Web App to Detect Gender from Name\n",
    "\n",
    "- Obtaining a name to the gender training dataset\n",
    "- Preprocessing the names to make them compatible with Machine Learning (ML) models\n",
    "- Developing a Natural Language Processing (NLP) ML model to read in a name and output if it’s a boy’s name or a girl’s name\n",
    "\n",
    "https://towardsdatascience.com/boy-or-girl-a-machine-learning-web-app-to-detect-gender-from-name-16dc0331716c"
   ]
  },
  {
   "cell_type": "code",
   "execution_count": 248,
   "metadata": {},
   "outputs": [],
   "source": [
    "import pandas as pd"
   ]
  },
  {
   "cell_type": "code",
   "execution_count": 249,
   "metadata": {},
   "outputs": [
    {
     "data": {
      "text/html": [
       "<div>\n",
       "<style scoped>\n",
       "    .dataframe tbody tr th:only-of-type {\n",
       "        vertical-align: middle;\n",
       "    }\n",
       "\n",
       "    .dataframe tbody tr th {\n",
       "        vertical-align: top;\n",
       "    }\n",
       "\n",
       "    .dataframe thead th {\n",
       "        text-align: right;\n",
       "    }\n",
       "</style>\n",
       "<table border=\"1\" class=\"dataframe\">\n",
       "  <thead>\n",
       "    <tr style=\"text-align: right;\">\n",
       "      <th></th>\n",
       "      <th>name</th>\n",
       "      <th>gender</th>\n",
       "    </tr>\n",
       "  </thead>\n",
       "  <tbody>\n",
       "    <tr>\n",
       "      <th>0</th>\n",
       "      <td>Mary</td>\n",
       "      <td>F</td>\n",
       "    </tr>\n",
       "    <tr>\n",
       "      <th>1</th>\n",
       "      <td>Annie</td>\n",
       "      <td>F</td>\n",
       "    </tr>\n",
       "    <tr>\n",
       "      <th>2</th>\n",
       "      <td>Anna</td>\n",
       "      <td>F</td>\n",
       "    </tr>\n",
       "    <tr>\n",
       "      <th>3</th>\n",
       "      <td>Margaret</td>\n",
       "      <td>F</td>\n",
       "    </tr>\n",
       "    <tr>\n",
       "      <th>4</th>\n",
       "      <td>Helen</td>\n",
       "      <td>F</td>\n",
       "    </tr>\n",
       "  </tbody>\n",
       "</table>\n",
       "</div>"
      ],
      "text/plain": [
       "       name gender\n",
       "0      Mary      F\n",
       "1     Annie      F\n",
       "2      Anna      F\n",
       "3  Margaret      F\n",
       "4     Helen      F"
      ]
     },
     "execution_count": 249,
     "metadata": {},
     "output_type": "execute_result"
    }
   ],
   "source": [
    "names_df = pd.read_csv('./heroku-apps/src/boyorgirl/data/us-names.csv')\n",
    "names_df.head()"
   ]
  },
  {
   "cell_type": "markdown",
   "metadata": {},
   "source": [
    "### Data Preprocessing\n",
    "<p>Human names are textual data, while ML models can only work with numeric data. To convert our text into a numeric representation, we’ll do the following steps.</p>\n",
    "\n",
    "- Lowercase the name since each character’s case doesn’t convey any information about a person’s gender.\n",
    "\n",
    "- Split each character: The basic idea of the ML model we’re building is to read characters in a name to identify patterns that could indicate masculinity or femininity. Thus we split the name into each character.\n",
    "\n",
    "- Pad names with empty spaces until a max of 50 characters ensures the ML model sees the same length for all the names.\n",
    "\n",
    "- Encode each character to a unique number since ML models can only work with numbers. In this case, we encode ‘ ’ (space) to 0, ‘a’ to 1, ‘b’ to 2, and so on.\n",
    "\n",
    "- Encode each gender to a unique number since ML models can only work with numbers. In this case, we encode ‘F’ to 0 and ‘M’ to 1."
   ]
  },
  {
   "cell_type": "code",
   "execution_count": 251,
   "metadata": {},
   "outputs": [],
   "source": [
    "def stop_words(name: str):\n",
    "    words = [\n",
    "        {'name': '_', 'value': ' '},\n",
    "        {'name': 'é', 'value': 'e'},\n",
    "        {'name': 'ï', 'value': 'i'},\n",
    "        {'name': 'ë', 'value': 'e'},\n",
    "        {'name': 'è', 'value': 'e'},\n",
    "        {'name': 'ü', 'value': 'u'}\n",
    "    ]\n",
    "    \n",
    "    \n",
    "    for word in words:\n",
    "        name = name.replace(word['name'], word['value'])\n",
    "        \n",
    "    return name"
   ]
  },
  {
   "cell_type": "code",
   "execution_count": 252,
   "metadata": {},
   "outputs": [
    {
     "data": {
      "text/html": [
       "<div>\n",
       "<style scoped>\n",
       "    .dataframe tbody tr th:only-of-type {\n",
       "        vertical-align: middle;\n",
       "    }\n",
       "\n",
       "    .dataframe tbody tr th {\n",
       "        vertical-align: top;\n",
       "    }\n",
       "\n",
       "    .dataframe thead th {\n",
       "        text-align: right;\n",
       "    }\n",
       "</style>\n",
       "<table border=\"1\" class=\"dataframe\">\n",
       "  <thead>\n",
       "    <tr style=\"text-align: right;\">\n",
       "      <th></th>\n",
       "      <th>name</th>\n",
       "      <th>gender</th>\n",
       "    </tr>\n",
       "  </thead>\n",
       "  <tbody>\n",
       "    <tr>\n",
       "      <th>0</th>\n",
       "      <td>[13.0, 1.0, 18.0, 25.0, 0.0, 0.0, 0.0, 0.0, 0....</td>\n",
       "      <td>0.0</td>\n",
       "    </tr>\n",
       "    <tr>\n",
       "      <th>1</th>\n",
       "      <td>[1.0, 14.0, 14.0, 9.0, 5.0, 0.0, 0.0, 0.0, 0.0...</td>\n",
       "      <td>0.0</td>\n",
       "    </tr>\n",
       "    <tr>\n",
       "      <th>2</th>\n",
       "      <td>[1.0, 14.0, 14.0, 1.0, 0.0, 0.0, 0.0, 0.0, 0.0...</td>\n",
       "      <td>0.0</td>\n",
       "    </tr>\n",
       "    <tr>\n",
       "      <th>3</th>\n",
       "      <td>[13.0, 1.0, 18.0, 7.0, 1.0, 18.0, 5.0, 20.0, 0...</td>\n",
       "      <td>0.0</td>\n",
       "    </tr>\n",
       "    <tr>\n",
       "      <th>4</th>\n",
       "      <td>[8.0, 5.0, 12.0, 5.0, 14.0, 0.0, 0.0, 0.0, 0.0...</td>\n",
       "      <td>0.0</td>\n",
       "    </tr>\n",
       "  </tbody>\n",
       "</table>\n",
       "</div>"
      ],
      "text/plain": [
       "                                                name  gender\n",
       "0  [13.0, 1.0, 18.0, 25.0, 0.0, 0.0, 0.0, 0.0, 0....     0.0\n",
       "1  [1.0, 14.0, 14.0, 9.0, 5.0, 0.0, 0.0, 0.0, 0.0...     0.0\n",
       "2  [1.0, 14.0, 14.0, 1.0, 0.0, 0.0, 0.0, 0.0, 0.0...     0.0\n",
       "3  [13.0, 1.0, 18.0, 7.0, 1.0, 18.0, 5.0, 20.0, 0...     0.0\n",
       "4  [8.0, 5.0, 12.0, 5.0, 14.0, 0.0, 0.0, 0.0, 0.0...     0.0"
      ]
     },
     "execution_count": 252,
     "metadata": {},
     "output_type": "execute_result"
    }
   ],
   "source": [
    "def preprocess(names_df, train=True):\n",
    "    # Step 1: Lowercase\n",
    "    names_df['name'] = names_df['name'].str.lower()\n",
    "    \n",
    "    # Step 2: Split individual characters\n",
    "    names_df['name'] = [list(stop_words(name)) for name in names_df['name']]\n",
    "    \n",
    "    # Step 3: Pad names with spaces to make all names same length\n",
    "    names_df['name'] = [\n",
    "        (name + [' ']*name_length)[:name_length] \n",
    "        for name in names_df['name']\n",
    "    ]\n",
    "    \n",
    "    # Step 4: Encode characters to numbers\n",
    "    names_df['name'] = [\n",
    "        [ max(0.0, ord(char)-96.0) for char in name]\n",
    "        for name in names_df['name']\n",
    "    ]\n",
    "    \n",
    "    if train:\n",
    "        # Step 5: Encode Gender to Numbers\n",
    "        names_df['gender'] = [\n",
    "            0.0 if gender=='F' else 1.0 \n",
    "            for gender in names_df['gender']\n",
    "        ]\n",
    "        \n",
    "    return names_df\n",
    "\n",
    "names_df = preprocess(names_df=names_df)\n",
    "names_df.head()"
   ]
  },
  {
   "cell_type": "markdown",
   "metadata": {},
   "source": [
    "## NLP ML Model\n",
    "When we read a name, we identify the probable gender of that name by the sequence in which characters appear in that name. For example, “Stephen” is most likely a boy’s name but “Stephanie” is likely a girl’s name. To mimic the way we humans identify the gender of a name, we construct a simple Bidirectional LSTM model using the tensorflow.keras API.\n",
    "\n",
    "### Model Architecture\n",
    "1. Embedding layer: to “embed” each input character’s encoded number into a dense 256 dimension vector. The choice of embedding_dim is a hyperparameter that can be tuned to get the desired accuracy.\n",
    "\n",
    "2. Bidirectional LSTM layer: read the sequence of character embeddings from the previous step and output a single vector representing that sequence. The values for units and dropouts are hyperparameters as well.\n",
    "\n",
    "3. Final Dense layer: to output a single value close to 0 for ‘F’ or close to 1 for ‘M’ since this is the encoding we used in the preprocessing step."
   ]
  },
  {
   "cell_type": "code",
   "execution_count": 253,
   "metadata": {},
   "outputs": [],
   "source": [
    "from tensorflow.keras import Sequential\n",
    "from tensorflow.keras.layers import Embedding, Bidirectional, LSTM, Dense\n",
    "from tensorflow.keras.optimizers import Adam\n",
    "\n",
    "def lstm_model(num_alphabets=27, name_length=50, embedding_dim=256):\n",
    "    model = Sequential([\n",
    "        Embedding(num_alphabets, embedding_dim, input_length=name_length),\n",
    "        Bidirectional(LSTM(units=128, recurrent_dropout=0.2, dropout=0.2)),\n",
    "        Dense(1, activation='sigmoid')\n",
    "    ])\n",
    "    \n",
    "    model.compile(loss='binary_crossentropy', optimizer=Adam(learning_rate=0.001), metrics=['accuracy'])\n",
    "    return model"
   ]
  },
  {
   "cell_type": "markdown",
   "metadata": {},
   "source": [
    "## Training the Model\n",
    "We’ll use the standard tensorflow.keras training pipeline as below\n",
    "1. Instantiate the model using the function we wrote in the model architecture step.\n",
    "2. Split the data into 80% training and 20% validation.\n",
    "3. Call model.fit with EarlyStopping callback to stop training once the model starts to overfit.\n",
    "4. Save the trained model to reuse while serving the web app.\n",
    "5. Plot the training and validation accuracies to visually check the model performance."
   ]
  },
  {
   "cell_type": "code",
   "execution_count": 255,
   "metadata": {
    "scrolled": true
   },
   "outputs": [
    {
     "name": "stdout",
     "output_type": "stream",
     "text": [
      "Epoch 1/100\n",
      "WARNING:tensorflow:AutoGraph could not transform <function Model.make_train_function.<locals>.train_function at 0x7f05b0aa89e0> and will run it as-is.\n",
      "Please report this to the TensorFlow team. When filing the bug, set the verbosity to 10 (on Linux, `export AUTOGRAPH_VERBOSITY=10`) and attach the full output.\n",
      "Cause: 'arguments' object has no attribute 'posonlyargs'\n",
      "To silence this warning, decorate the function with @tf.autograph.experimental.do_not_convert\n",
      "WARNING: AutoGraph could not transform <function Model.make_train_function.<locals>.train_function at 0x7f05b0aa89e0> and will run it as-is.\n",
      "Please report this to the TensorFlow team. When filing the bug, set the verbosity to 10 (on Linux, `export AUTOGRAPH_VERBOSITY=10`) and attach the full output.\n",
      "Cause: 'arguments' object has no attribute 'posonlyargs'\n",
      "To silence this warning, decorate the function with @tf.autograph.experimental.do_not_convert\n",
      "441/441 [==============================] - ETA: 0s - loss: 0.5613 - accuracy: 0.7106WARNING:tensorflow:AutoGraph could not transform <function Model.make_test_function.<locals>.test_function at 0x7f059794a9e0> and will run it as-is.\n",
      "Please report this to the TensorFlow team. When filing the bug, set the verbosity to 10 (on Linux, `export AUTOGRAPH_VERBOSITY=10`) and attach the full output.\n",
      "Cause: 'arguments' object has no attribute 'posonlyargs'\n",
      "To silence this warning, decorate the function with @tf.autograph.experimental.do_not_convert\n",
      "WARNING: AutoGraph could not transform <function Model.make_test_function.<locals>.test_function at 0x7f059794a9e0> and will run it as-is.\n",
      "Please report this to the TensorFlow team. When filing the bug, set the verbosity to 10 (on Linux, `export AUTOGRAPH_VERBOSITY=10`) and attach the full output.\n",
      "Cause: 'arguments' object has no attribute 'posonlyargs'\n",
      "To silence this warning, decorate the function with @tf.autograph.experimental.do_not_convert\n",
      "441/441 [==============================] - 78s 176ms/step - loss: 0.5613 - accuracy: 0.7106 - val_loss: 0.5171 - val_accuracy: 0.7479\n",
      "Epoch 2/100\n",
      "441/441 [==============================] - 78s 177ms/step - loss: 0.4917 - accuracy: 0.7633 - val_loss: 0.4870 - val_accuracy: 0.7740\n",
      "Epoch 3/100\n",
      "441/441 [==============================] - 86s 195ms/step - loss: 0.4730 - accuracy: 0.7794 - val_loss: 0.4770 - val_accuracy: 0.7806\n",
      "Epoch 4/100\n",
      "441/441 [==============================] - 82s 187ms/step - loss: 0.4641 - accuracy: 0.7838 - val_loss: 0.4746 - val_accuracy: 0.7850\n",
      "Epoch 5/100\n",
      "441/441 [==============================] - 90s 203ms/step - loss: 0.4572 - accuracy: 0.7897 - val_loss: 0.4736 - val_accuracy: 0.7855\n",
      "Epoch 6/100\n",
      "441/441 [==============================] - 83s 187ms/step - loss: 0.4509 - accuracy: 0.7924 - val_loss: 0.4573 - val_accuracy: 0.7916\n",
      "Epoch 7/100\n",
      "441/441 [==============================] - 78s 176ms/step - loss: 0.4432 - accuracy: 0.7964 - val_loss: 0.4518 - val_accuracy: 0.7914\n",
      "Epoch 8/100\n",
      "441/441 [==============================] - 78s 176ms/step - loss: 0.4336 - accuracy: 0.8012 - val_loss: 0.4487 - val_accuracy: 0.7972\n",
      "Epoch 9/100\n",
      "441/441 [==============================] - 86s 194ms/step - loss: 0.4279 - accuracy: 0.8063 - val_loss: 0.4379 - val_accuracy: 0.8029\n",
      "Epoch 10/100\n",
      "441/441 [==============================] - 86s 196ms/step - loss: 0.4183 - accuracy: 0.8098 - val_loss: 0.4347 - val_accuracy: 0.8080\n",
      "Epoch 11/100\n",
      "441/441 [==============================] - 86s 194ms/step - loss: 0.4098 - accuracy: 0.8168 - val_loss: 0.4314 - val_accuracy: 0.8094\n",
      "Epoch 12/100\n",
      "441/441 [==============================] - 87s 197ms/step - loss: 0.4023 - accuracy: 0.8202 - val_loss: 0.4287 - val_accuracy: 0.8096\n",
      "Epoch 13/100\n",
      "441/441 [==============================] - 87s 197ms/step - loss: 0.3956 - accuracy: 0.8238 - val_loss: 0.4290 - val_accuracy: 0.8089\n",
      "Epoch 14/100\n",
      "441/441 [==============================] - 85s 193ms/step - loss: 0.3887 - accuracy: 0.8262 - val_loss: 0.4234 - val_accuracy: 0.8144\n",
      "Epoch 15/100\n",
      "441/441 [==============================] - 87s 198ms/step - loss: 0.3808 - accuracy: 0.8296 - val_loss: 0.4262 - val_accuracy: 0.8117\n",
      "Epoch 16/100\n",
      "441/441 [==============================] - 89s 202ms/step - loss: 0.3742 - accuracy: 0.8346 - val_loss: 0.4280 - val_accuracy: 0.8138\n",
      "Epoch 17/100\n",
      "441/441 [==============================] - 84s 191ms/step - loss: 0.3675 - accuracy: 0.8380 - val_loss: 0.4231 - val_accuracy: 0.8153\n",
      "Epoch 18/100\n",
      "441/441 [==============================] - 82s 186ms/step - loss: 0.3612 - accuracy: 0.8406 - val_loss: 0.4234 - val_accuracy: 0.8150\n",
      "Epoch 19/100\n",
      "441/441 [==============================] - ETA: 0s - loss: 0.3550 - accuracy: 0.8418Restoring model weights from the end of the best epoch.\n",
      "441/441 [==============================] - 89s 202ms/step - loss: 0.3550 - accuracy: 0.8418 - val_loss: 0.4254 - val_accuracy: 0.8134\n",
      "Epoch 00019: early stopping\n"
     ]
    },
    {
     "data": {
      "text/plain": [
       "<matplotlib.legend.Legend at 0x7f05977c2d10>"
      ]
     },
     "execution_count": 255,
     "metadata": {},
     "output_type": "execute_result"
    },
    {
     "data": {
      "image/png": "[encoded data removed]",
      "text/plain": [
       "<Figure size 432x288 with 1 Axes>"
      ]
     },
     "metadata": {
      "needs_background": "light"
     },
     "output_type": "display_data"
    }
   ],
   "source": [
    "import numpy as np\n",
    "from matplotlib import pyplot as plt\n",
    "from sklearn.model_selection import train_test_split\n",
    "from tensorflow.keras.callbacks import EarlyStopping\n",
    "\n",
    "# Step 1: Instantiate the model\n",
    "model = lstm_model(num_alphabets=27, name_length=50, embedding_dim=256)\n",
    "\n",
    "# Step 2: Split training and test data\n",
    "X = np.asarray(names_df['name'].values.tolist())\n",
    "y = np.asarray(names_df['gender'].values.tolist())\n",
    "\n",
    "X_train, X_test, y_train, y_test = train_test_split(X, y, test_size=0.2, random_state=0)\n",
    "\n",
    "# Step 3: Train the model\n",
    "callbacks = [\n",
    "    EarlyStopping(monitor='val_accuracy',\n",
    "                 min_delta=1e-3,\n",
    "                 patience=5,\n",
    "                 mode='max',\n",
    "                 restore_best_weights=True,\n",
    "                 verbose=1),\n",
    "]\n",
    "\n",
    "history = model.fit(x=X_train,\n",
    "                   y=y_train,\n",
    "                   batch_size=64,\n",
    "                   epochs=100,\n",
    "                   validation_data=(X_test, y_test),\n",
    "                   callbacks=callbacks)\n",
    "\n",
    "# Step 4: Save the model\n",
    "model.save('boyorgirl.h5')\n",
    "\n",
    "# Step 5: Plot accuracies\n",
    "plt.plot(history.history['accuracy'], label='train')\n",
    "plt.plot(history.history['val_accuracy'], label='val')\n",
    "plt.xlabel('Epochs')\n",
    "plt.ylabel('Accuracy')\n",
    "plt.legend()"
   ]
  },
  {
   "cell_type": "code",
   "execution_count": 261,
   "metadata": {
    "scrolled": true
   },
   "outputs": [
    {
     "name": "stdout",
     "output_type": "stream",
     "text": [
      "WARNING:tensorflow:AutoGraph could not transform <function Model.make_predict_function.<locals>.predict_function at 0x7f057a1178c0> and will run it as-is.\n",
      "Please report this to the TensorFlow team. When filing the bug, set the verbosity to 10 (on Linux, `export AUTOGRAPH_VERBOSITY=10`) and attach the full output.\n",
      "Cause: 'arguments' object has no attribute 'posonlyargs'\n",
      "To silence this warning, decorate the function with @tf.autograph.experimental.do_not_convert\n",
      "WARNING: AutoGraph could not transform <function Model.make_predict_function.<locals>.predict_function at 0x7f057a1178c0> and will run it as-is.\n",
      "Please report this to the TensorFlow team. When filing the bug, set the verbosity to 10 (on Linux, `export AUTOGRAPH_VERBOSITY=10`) and attach the full output.\n",
      "Cause: 'arguments' object has no attribute 'posonlyargs'\n",
      "To silence this warning, decorate the function with @tf.autograph.experimental.do_not_convert\n"
     ]
    },
    {
     "data": {
      "text/html": [
       "<div>\n",
       "<style scoped>\n",
       "    .dataframe tbody tr th:only-of-type {\n",
       "        vertical-align: middle;\n",
       "    }\n",
       "\n",
       "    .dataframe tbody tr th {\n",
       "        vertical-align: top;\n",
       "    }\n",
       "\n",
       "    .dataframe thead th {\n",
       "        text-align: right;\n",
       "    }\n",
       "</style>\n",
       "<table border=\"1\" class=\"dataframe\">\n",
       "  <thead>\n",
       "    <tr style=\"text-align: right;\">\n",
       "      <th></th>\n",
       "      <th>Name</th>\n",
       "      <th>Gender</th>\n",
       "      <th>Probability</th>\n",
       "    </tr>\n",
       "  </thead>\n",
       "  <tbody>\n",
       "    <tr>\n",
       "      <th>0</th>\n",
       "      <td>Joe</td>\n",
       "      <td>Male</td>\n",
       "      <td>0.54</td>\n",
       "    </tr>\n",
       "    <tr>\n",
       "      <th>1</th>\n",
       "      <td>Biden</td>\n",
       "      <td>Male</td>\n",
       "      <td>0.74</td>\n",
       "    </tr>\n",
       "    <tr>\n",
       "      <th>2</th>\n",
       "      <td>Raymond</td>\n",
       "      <td>Male</td>\n",
       "      <td>0.86</td>\n",
       "    </tr>\n",
       "    <tr>\n",
       "      <th>3</th>\n",
       "      <td>Kamala</td>\n",
       "      <td>Female</td>\n",
       "      <td>0.85</td>\n",
       "    </tr>\n",
       "    <tr>\n",
       "      <th>4</th>\n",
       "      <td>Harris</td>\n",
       "      <td>Male</td>\n",
       "      <td>0.59</td>\n",
       "    </tr>\n",
       "  </tbody>\n",
       "</table>\n",
       "</div>"
      ],
      "text/plain": [
       "      Name  Gender  Probability\n",
       "0      Joe    Male         0.54\n",
       "1    Biden    Male         0.74\n",
       "2  Raymond    Male         0.86\n",
       "3   Kamala  Female         0.85\n",
       "4   Harris    Male         0.59"
      ]
     },
     "execution_count": 261,
     "metadata": {},
     "output_type": "execute_result"
    }
   ],
   "source": [
    "from tensorflow.keras.models import load_model\n",
    "import pandas as pd\n",
    "import numpy as np\n",
    "\n",
    "pred_model = load_model('boyorgirl.h5')\n",
    "\n",
    "# Input names\n",
    "names = ['Joe', 'Biden', 'Raymond', 'Kamala', 'Harris']\n",
    "# Convert to datafram\n",
    "pred_df = pd.DataFrame({'name': names})\n",
    "\n",
    "def test_process(pred_df=pred_df, name_list=names):\n",
    "    # Preprocess\n",
    "    pred_df = preprocess(pred_df, train=False)\n",
    "\n",
    "    # Predictions\n",
    "    result = pred_model.predict(np.asarray(\n",
    "        pred_df['name'].values.tolist())).squeeze(axis=1)\n",
    "\n",
    "    pred_df['Gender'] = [\n",
    "        'Male' if logit > 0.5 else 'Female' for logit in result\n",
    "    ]\n",
    "\n",
    "    pred_df['Probability'] = [\n",
    "        logit if logit > 0.5 else 1.0 - logit for logit in result\n",
    "    ]\n",
    "\n",
    "    # Format the output\n",
    "    pred_df['name'] = name_list\n",
    "    pred_df.rename(columns={'name': 'Name'}, inplace=True)\n",
    "    pred_df['Probability'] = pred_df['Probability'].round(2)\n",
    "    pred_df.drop_duplicates(inplace=True)\n",
    "    \n",
    "    return pred_df\n",
    "\n",
    "pred_df = test_process()\n",
    "pred_df.head()"
   ]
  },
  {
   "cell_type": "code",
   "execution_count": 396,
   "metadata": {
    "scrolled": true
   },
   "outputs": [
    {
     "data": {
      "text/html": [
       "<div>\n",
       "<style scoped>\n",
       "    .dataframe tbody tr th:only-of-type {\n",
       "        vertical-align: middle;\n",
       "    }\n",
       "\n",
       "    .dataframe tbody tr th {\n",
       "        vertical-align: top;\n",
       "    }\n",
       "\n",
       "    .dataframe thead th {\n",
       "        text-align: right;\n",
       "    }\n",
       "</style>\n",
       "<table border=\"1\" class=\"dataframe\">\n",
       "  <thead>\n",
       "    <tr style=\"text-align: right;\">\n",
       "      <th></th>\n",
       "      <th>Name</th>\n",
       "      <th>Gender</th>\n",
       "      <th>Probability</th>\n",
       "    </tr>\n",
       "  </thead>\n",
       "  <tbody>\n",
       "    <tr>\n",
       "      <th>0</th>\n",
       "      <td>val</td>\n",
       "      <td>Male</td>\n",
       "      <td>0.71</td>\n",
       "    </tr>\n",
       "    <tr>\n",
       "      <th>1</th>\n",
       "      <td>chakaneld</td>\n",
       "      <td>Male</td>\n",
       "      <td>0.82</td>\n",
       "    </tr>\n",
       "    <tr>\n",
       "      <th>2</th>\n",
       "      <td>bat40</td>\n",
       "      <td>Male</td>\n",
       "      <td>0.68</td>\n",
       "    </tr>\n",
       "    <tr>\n",
       "      <th>3</th>\n",
       "      <td>ko</td>\n",
       "      <td>Male</td>\n",
       "      <td>0.69</td>\n",
       "    </tr>\n",
       "    <tr>\n",
       "      <th>4</th>\n",
       "      <td>nuerkie</td>\n",
       "      <td>Female</td>\n",
       "      <td>0.85</td>\n",
       "    </tr>\n",
       "  </tbody>\n",
       "</table>\n",
       "</div>"
      ],
      "text/plain": [
       "        Name  Gender  Probability\n",
       "0        val    Male         0.71\n",
       "1  chakaneld    Male         0.82\n",
       "2      bat40    Male         0.68\n",
       "3         ko    Male         0.69\n",
       "4    nuerkie  Female         0.85"
      ]
     },
     "execution_count": 396,
     "metadata": {},
     "output_type": "execute_result"
    }
   ],
   "source": [
    "ejara_df = pd.read_csv('./customers_with_no_gender.csv')\n",
    "ejara_df.rename(columns={'username': 'name'}, inplace=True)\n",
    "\n",
    "ejara = ejara_df['name'].values.tolist()\n",
    "pred_df = pd.DataFrame({'name': ejara})\n",
    "\n",
    "pred_df = test_process(pred_df=pred_df, name_list=ejara)\n",
    "pred_df.loc[pred_df.Probability < 0.57, 'Gender'] = 'Female'\n",
    "\n",
    "pred_df.head()"
   ]
  },
  {
   "cell_type": "code",
   "execution_count": 397,
   "metadata": {},
   "outputs": [
    {
     "name": "stdout",
     "output_type": "stream",
     "text": [
      "Male: 4506\n",
      "Female: 3197\n"
     ]
    },
    {
     "data": {
      "image/png": "[encoded data removed]",
      "text/plain": [
       "<Figure size 432x288 with 1 Axes>"
      ]
     },
     "metadata": {
      "needs_background": "light"
     },
     "output_type": "display_data"
    }
   ],
   "source": [
    "# df.loc[df['column_name'] == some_value]\n",
    "female = pred_df.loc[pred_df['Gender'] == 'Female']\n",
    "male = pred_df.loc[pred_df['Gender'] == 'Male']\n",
    "\n",
    "plt.bar(['F', 'M'], [len(female.index), len(male.index)])\n",
    "plt.xlabel('Gender')\n",
    "plt.ylabel('Count')\n",
    "\n",
    "print(f'Male: {len(male.index)}')\n",
    "print(f'Female: {len(female.index)}')"
   ]
  },
  {
   "cell_type": "code",
   "execution_count": 399,
   "metadata": {},
   "outputs": [],
   "source": [
    "pred_df.to_csv('ejara.csv')"
   ]
  },
  {
   "cell_type": "code",
   "execution_count": null,
   "metadata": {},
   "outputs": [],
   "source": []
  }
 ],
 "metadata": {
  "kernelspec": {
   "display_name": "Python 3.7.6 64-bit ('ray': conda)",
   "language": "python",
   "name": "python37664bitrayconda3b8e9fc2afed4f51b4e648b9e2d2c0cd"
  },
  "language_info": {
   "codemirror_mode": {
    "name": "ipython",
    "version": 3
   },
   "file_extension": ".py",
   "mimetype": "text/x-python",
   "name": "python",
   "nbconvert_exporter": "python",
   "pygments_lexer": "ipython3",
   "version": "3.7.6"
  }
 },
 "nbformat": 4,
 "nbformat_minor": 4
}
